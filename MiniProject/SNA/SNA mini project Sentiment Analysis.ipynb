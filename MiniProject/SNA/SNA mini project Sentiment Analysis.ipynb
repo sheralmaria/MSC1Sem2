{
 "cells": [
  {
   "cell_type": "code",
   "execution_count": 1,
   "id": "4c4453a3",
   "metadata": {},
   "outputs": [
    {
     "name": "stdout",
     "output_type": "stream",
     "text": [
      "Requirement already satisfied: statistics in c:\\users\\micha\\anaconda3\\lib\\site-packages (1.0.3.5)\n",
      "Requirement already satisfied: docutils>=0.3 in c:\\users\\micha\\anaconda3\\lib\\site-packages (from statistics) (0.17.1)\n",
      "Requirement already satisfied: nltk in c:\\users\\micha\\anaconda3\\lib\\site-packages (3.6.5)\n",
      "Requirement already satisfied: click in c:\\users\\micha\\anaconda3\\lib\\site-packages (from nltk) (8.0.3)\n",
      "Requirement already satisfied: joblib in c:\\users\\micha\\anaconda3\\lib\\site-packages (from nltk) (1.1.0)\n",
      "Requirement already satisfied: regex>=2021.8.3 in c:\\users\\micha\\anaconda3\\lib\\site-packages (from nltk) (2021.8.3)\n",
      "Requirement already satisfied: tqdm in c:\\users\\micha\\anaconda3\\lib\\site-packages (from nltk) (4.62.3)\n",
      "Requirement already satisfied: colorama in c:\\users\\micha\\anaconda3\\lib\\site-packages (from click->nltk) (0.4.4)\n"
     ]
    },
    {
     "name": "stderr",
     "output_type": "stream",
     "text": [
      "ERROR: Could not find a version that satisfies the requirement random (from versions: none)\n",
      "ERROR: No matching distribution found for random\n"
     ]
    },
    {
     "name": "stdout",
     "output_type": "stream",
     "text": [
      "Requirement already satisfied: colorama in c:\\users\\micha\\anaconda3\\lib\\site-packages (0.4.4)\n"
     ]
    }
   ],
   "source": [
    "!pip install statistics\n",
    "!pip install nltk\n",
    "!pip install random\n",
    "!pip install colorama"
   ]
  },
  {
   "cell_type": "code",
   "execution_count": 2,
   "id": "01492815",
   "metadata": {},
   "outputs": [
    {
     "name": "stderr",
     "output_type": "stream",
     "text": [
      "[nltk_data] Downloading package vader_lexicon to\n",
      "[nltk_data]     C:\\Users\\micha\\AppData\\Roaming\\nltk_data...\n",
      "[nltk_data]   Package vader_lexicon is already up-to-date!\n",
      "[nltk_data] Downloading package twitter_samples to\n",
      "[nltk_data]     C:\\Users\\micha\\AppData\\Roaming\\nltk_data...\n",
      "[nltk_data]   Package twitter_samples is already up-to-date!\n"
     ]
    },
    {
     "data": {
      "text/plain": [
       "True"
      ]
     },
     "execution_count": 2,
     "metadata": {},
     "output_type": "execute_result"
    }
   ],
   "source": [
    "import nltk\n",
    "nltk.download('vader_lexicon')\n",
    "nltk.download('twitter_samples')"
   ]
  },
  {
   "cell_type": "code",
   "execution_count": 3,
   "id": "fdbd2c85",
   "metadata": {},
   "outputs": [],
   "source": [
    "import nltk\n",
    "from nltk.corpus import stopwords, twitter_samples\n",
    "from nltk.sentiment import SentimentIntensityAnalyzer\n",
    "from statistics import mean\n",
    "from random import shuffle\n",
    "from colorama import Fore"
   ]
  },
  {
   "cell_type": "code",
   "execution_count": 4,
   "id": "95fbcfc2",
   "metadata": {},
   "outputs": [
    {
     "data": {
      "text/plain": [
       "{'neg': 0.0, 'neu': 0.594, 'pos': 0.406, 'compound': 0.6249}"
      ]
     },
     "execution_count": 4,
     "metadata": {},
     "output_type": "execute_result"
    }
   ],
   "source": [
    "sia = SentimentIntensityAnalyzer()\n",
    "sia.polarity_scores(\"NLTK is a great package to perform NLP.\")\n"
   ]
  },
  {
   "cell_type": "code",
   "execution_count": 5,
   "id": "a1b94da6",
   "metadata": {},
   "outputs": [
    {
     "name": "stdout",
     "output_type": "stream",
     "text": [
      "\u001b[32m@oche_balboa Cheers oche hun :) xxx\n",
      "\u001b[31mRT @KatieKhaleesi: I'm #SNPbecause in my entire adult life I've only seen Labour &amp; Tories cause misery, war, and further victimisation of t…\n",
      "\u001b[32m@mermaid_bl00d haha aw, I miss you too! Haven't seen you for agessss :(((\n",
      "\u001b[32mRT @direkkare: @Ed_Miliband - us truly left -leaning English voters are crying out for a progressive,  honest government and if the SNP can…\n",
      "\u001b[31mI hate Japanese call him \"bani\" :( :(\n",
      "\u001b[31mRT @UKLabour: Remember what he said about the NHS in 2010? You can't trust David Cameron with the NHS. #BBCQT http://t.co/f8a9lnxLEc\n",
      "\u001b[32m@lucymatthewsss same deal here. the man at the airport laughed at me when he asked me age and asked 'reaally?' :(\n",
      "\u001b[31mRT @LucioFulciFan: @ChristinaSNP Maybe now even the thickest Labourites in Scotland can see Labour would rather side with the Tories than s…\n",
      "\u001b[32mNigel has really impressed me tonight he's conducted his self great fairplay to him ukip for parliament !!!!!!#bbctw\n",
      "\u001b[32m@scottishlabour tory party have dropped the name off labour and are now called the new Scot Tory party main office at Westminster Vote SNP\n"
     ]
    }
   ],
   "source": [
    "green = Fore.GREEN\n",
    "red = Fore.RED\n",
    "\n",
    "def ispositive(tweet : str) -> bool:\n",
    "    return sia.polarity_scores(tweet)[\"compound\"] > 0\n",
    "\n",
    "tweets = [tweet for tweet in twitter_samples.strings()]\n",
    "shuffle(tweets)\n",
    "\n",
    "for tweet in tweets[ : 10]:\n",
    "    color = green\n",
    "    if not ispositive(tweet):\n",
    "        color = red\n",
    "    print(f\"{color}{tweet}\")\n"
   ]
  },
  {
   "cell_type": "code",
   "execution_count": null,
   "id": "8acda4d6",
   "metadata": {},
   "outputs": [],
   "source": []
  }
 ],
 "metadata": {
  "kernelspec": {
   "display_name": "Python 3 (ipykernel)",
   "language": "python",
   "name": "python3"
  },
  "language_info": {
   "codemirror_mode": {
    "name": "ipython",
    "version": 3
   },
   "file_extension": ".py",
   "mimetype": "text/x-python",
   "name": "python",
   "nbconvert_exporter": "python",
   "pygments_lexer": "ipython3",
   "version": "3.9.7"
  }
 },
 "nbformat": 4,
 "nbformat_minor": 5
}
